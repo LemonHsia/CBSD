{
 "cells": [
  {
   "cell_type": "markdown",
   "metadata": {},
   "source": [
    "# Development environment for coseq2modules"
   ]
  },
  {
   "cell_type": "code",
   "execution_count": 1,
   "metadata": {
    "collapsed": false
   },
   "outputs": [],
   "source": [
    "#! /usr/bin/env python\n",
    "\n",
    "import sys\n",
    "import os\n",
    "from itertools import islice\n",
    "from collections import defaultdict\n",
    "\n",
    "\n",
    "#### Description ####\n",
    "\n",
    "'''\n",
    "This script will transform the coseq output table to list of genes belonging to each module in separate files.\n",
    "Needs a threshold value for the conditional probability of each gene belonging to a module.\n",
    "'''\n",
    "\n",
    "#### Variables ####\n",
    "\n",
    "#table = sys.argv[1]  # name of the table file\n",
    "table = \"/home/roberto/Desktop/JL-Presentation/PAG_2017/Results/Clustering/GMM/Results/Namikonga_Infected.modules\"\n",
    "#thresh = sys.argv[2] # threshold of the conditional probability of belonging to each module\n",
    "thresh = 0.9\n",
    "#output = sys.argv[3] # name of the output suffix (everything should look like module1.NC, module2.NI and so on)\n",
    "output = \"NI\"\n",
    "#### Code ####\n",
    "\n",
    "nmodules = 0\n",
    "keys= list()\n",
    "values = list()\n",
    "d = dict()\n",
    "\n",
    "# Load the files \n",
    "\n",
    "with open(table) as h:\n",
    "    # Remove first line\n",
    "    head = list(islice(h, 1))\n",
    "    \n",
    "    # Count the number of modules\n",
    "    for elements in head:\n",
    "        a = elements.split()\n",
    "        nmodules = len(a)\n",
    "        next\n",
    "    \n",
    "    # Remove the lines if none of the values reach the significance level         \n",
    "    \n",
    "    for elements in h:\n",
    "        b = elements.split()\n",
    "        \n",
    "        lista = b[1:nmodules+1]\n",
    "        listo = [float(i) for i in lista]\n",
    "        \n",
    "        # Remove genes with a conditional probability lower than 0.9\n",
    "        if any(float(i) >= thresh for i in listo):\n",
    "            m = max(b[1:nmodules+1])\n",
    "            indice = [i for i, j in enumerate(b[1:nmodules+1]) if j == m]\n",
    "            index = indice[0]+1\n",
    "            \n",
    "        \n",
    "            keys.append(index)\n",
    "            values.append(b[0])\n",
    "\n",
    "            if index in d:\n",
    "                d[index] = d[index] + \" \" + (b[0])\n",
    "            else:\n",
    "                d[index] = (b[0])                 \n",
    "        else: \n",
    "            next\n",
    "    "
   ]
  },
  {
   "cell_type": "code",
   "execution_count": 2,
   "metadata": {
    "collapsed": false
   },
   "outputs": [],
   "source": [
    "# Create a folder to put all the module lists\n",
    "if not os.path.exists(output):\n",
    "    os.makedirs(output)"
   ]
  },
  {
   "cell_type": "code",
   "execution_count": 3,
   "metadata": {
    "collapsed": false
   },
   "outputs": [],
   "source": [
    "# Output the dictionary into separate files\n",
    "for keys in d.keys():\n",
    "    readyto = d[keys].split(\" \")\n",
    "    f1 = open('%s/module%s.%s' %(output,keys,output), 'w')\n",
    "    for elements in readyto:\n",
    "        printhis = elements + \"      \"\n",
    "        f1.write(elements)    \n",
    "        f1.write(\"\\n\")\n",
    "        \n",
    "f1.close()\n"
   ]
  },
  {
   "cell_type": "code",
   "execution_count": null,
   "metadata": {
    "collapsed": false
   },
   "outputs": [],
   "source": []
  }
 ],
 "metadata": {
  "anaconda-cloud": {},
  "kernelspec": {
   "display_name": "Python [default]",
   "language": "python",
   "name": "python3"
  },
  "language_info": {
   "codemirror_mode": {
    "name": "ipython",
    "version": 3
   },
   "file_extension": ".py",
   "mimetype": "text/x-python",
   "name": "python",
   "nbconvert_exporter": "python",
   "pygments_lexer": "ipython3",
   "version": "3.5.2"
  }
 },
 "nbformat": 4,
 "nbformat_minor": 1
}
